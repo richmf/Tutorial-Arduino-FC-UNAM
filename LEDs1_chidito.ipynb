{
 "cells": [
  {
   "cell_type": "markdown",
   "id": "f0f3dabb-07dc-4cf8-908b-79e3f413ecc0",
   "metadata": {
    "jp-MarkdownHeadingCollapsed": true,
    "tags": []
   },
   "source": [
    "## Copia y pega esta parte del código:\n",
    "\n",
    "```cpp\n",
    "// C++ code\n",
    "//\n",
    "void setup()\n",
    "{\n",
    "  pinMode(10, OUTPUT);\n",
    "}\n",
    "\n",
    "void loop()\n",
    "{\n",
    "  digitalWrite(10, HIGH);\n",
    "  delay(1000); // Wait for 1000 millisecond(s)\n",
    "  digitalWrite(10, LOW);\n",
    "  delay(1000); // Wait for 1000 millisecond(s)\n",
    "}\n",
    "```\n",
    "____\n",
    "[Regresar al tutorial](#)"
   ]
  }
 ],
 "metadata": {
  "kernelspec": {
   "display_name": "Python 3 (ipykernel)",
   "language": "python",
   "name": "python3"
  },
  "language_info": {
   "codemirror_mode": {
    "name": "ipython",
    "version": 3
   },
   "file_extension": ".py",
   "mimetype": "text/x-python",
   "name": "python",
   "nbconvert_exporter": "python",
   "pygments_lexer": "ipython3",
   "version": "3.9.12"
  }
 },
 "nbformat": 4,
 "nbformat_minor": 5
}
