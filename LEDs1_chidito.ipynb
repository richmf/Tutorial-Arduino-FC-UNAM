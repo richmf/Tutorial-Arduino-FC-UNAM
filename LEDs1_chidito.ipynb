{
 "cells": [
  {
   "cell_type": "markdown",
   "id": "f0f3dabb-07dc-4cf8-908b-79e3f413ecc0",
   "metadata": {},
   "source": [
    "```C\n",
    "// C++ code\n",
    "//\n",
    "void setup()\n",
    "{\n",
    "  pinMode(10, OUTPUT);\n",
    "}\n",
    "\n",
    "void loop()\n",
    "{\n",
    "  digitalWrite(10, HIGH);\n",
    "  delay(1000); // Wait for 1000 millisecond(s)\n",
    "  digitalWrite(10, LOW);\n",
    "  delay(1000); // Wait for 1000 millisecond(s)\n",
    "}\n",
    "```"
   ]
  },
  {
   "cell_type": "code",
   "execution_count": null,
   "id": "cd23d454-70d0-46e1-90d6-b43ede042f3e",
   "metadata": {},
   "outputs": [],
   "source": []
  }
 ],
 "metadata": {
  "kernelspec": {
   "display_name": "Python 3 (ipykernel)",
   "language": "python",
   "name": "python3"
  },
  "language_info": {
   "codemirror_mode": {
    "name": "ipython",
    "version": 3
   },
   "file_extension": ".py",
   "mimetype": "text/x-python",
   "name": "python",
   "nbconvert_exporter": "python",
   "pygments_lexer": "ipython3",
   "version": "3.9.12"
  }
 },
 "nbformat": 4,
 "nbformat_minor": 5
}
